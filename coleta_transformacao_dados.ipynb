{
 "cells": [
  {
   "cell_type": "markdown",
   "metadata": {},
   "source": [
    "# Recomendador de artigos - Open Alex e GPT"
   ]
  },
  {
   "cell_type": "code",
   "execution_count": 2,
   "metadata": {},
   "outputs": [],
   "source": [
    "import requests\n",
    "import pandas as pd\n",
    "from datetime import datetime,timedelta,date\n",
    "import os\n",
    "import pyarrow.parquet as pq\n",
    "\n",
    "\n",
    "pd.options.display.max_columns = 999"
   ]
  },
  {
   "cell_type": "code",
   "execution_count": 3,
   "metadata": {},
   "outputs": [],
   "source": [
    "def coletar_dados_e_salvar(data_inicial,data_fim):\n",
    "    \n",
    "    cursor = '*'\n",
    "            \n",
    "    contador = 1\n",
    "    contador_erro = 0\n",
    "    \n",
    "    diretorio = f'datasets_{data_inicial}_to_{data_fim}'\n",
    "    \n",
    "    if not os.path.exists(diretorio):\n",
    "        os.makedirs(diretorio)\n",
    "    \n",
    "    while cursor != None:\n",
    "        url = f'https://api.openalex.org/works?filter=from_publication_date:{data_inicial},to_publication_date:{data_fim},type:Article&per-page=200&cursor={cursor}'\n",
    "\n",
    "        \n",
    "        try:\n",
    "            requisicao = requests.get(url)\n",
    "            pagina_com_resultados = requisicao.json()\n",
    "            \n",
    "        except (requests.exceptions.RequestException, ValueError) as e:\n",
    "            contador_erro += 1 \n",
    "            print(f\"Erro na página {contador} (Erro {contador_erro}): {e}\")\n",
    "            continue \n",
    "        \n",
    "        resultados = pagina_com_resultados.get('results', [])\n",
    "        \n",
    "        df = pd.DataFrame(resultados)\n",
    "        parquet_arquivo = os.path.join(diretorio, f'registros_{data_inicial}_to_{data_fim}_{contador}.parquet')\n",
    "        df.to_parquet(parquet_arquivo, index=False)\n",
    "        \n",
    "        cursor = pagina_com_resultados['meta'].get('next_cursor')\n",
    "        \n",
    "        contador += 1\n",
    "    \n",
    "    print(f\"Total de erros: {contador_erro}\")"
   ]
  },
  {
   "cell_type": "code",
   "execution_count": 4,
   "metadata": {},
   "outputs": [],
   "source": [
    "def concatenar_arquivos_parquet(folder_path):\n",
    "\n",
    "    dataframes = []\n",
    "\n",
    "    for filename in os.listdir(folder_path):\n",
    "        if filename.endswith('.parquet'):\n",
    "            file_path = os.path.join(folder_path, filename)\n",
    "            df = pd.read_parquet(file_path)\n",
    "            dataframes.append(df)\n",
    "\n",
    "    df_concatenado = pd.concat(dataframes, ignore_index=True)\n",
    "    \n",
    "    df_concatenado.to_parquet('df_concatenado.parquet',index=False)\n",
    "    "
   ]
  },
  {
   "cell_type": "markdown",
   "metadata": {},
   "source": [
    "## CONTINUAR"
   ]
  },
  {
   "cell_type": "code",
   "execution_count": 6,
   "metadata": {},
   "outputs": [],
   "source": [
    "def extrair_concepts_scores(df):\n",
    "    concept_data = []\n",
    "\n",
    "    for concepts in df['concepts']:\n",
    "        concept_scores = {}\n",
    "        for concept in concepts:\n",
    "            if concept['level'] == 0:\n",
    "                concept_scores[concept['display_name']] = concept['score']\n",
    "            elif concept['level'] == 1 and concept['score'] > 0.7:\n",
    "                concept_scores[concept['display_name']] = concept['score']\n",
    "        concept_data.append(concept_scores)\n",
    "\n",
    "    df_concepts = pd.DataFrame(concept_data, index=df.index).fillna(0).round(4)\n",
    "\n",
    "    df_final = pd.concat([df, df_concepts], axis=1)\n",
    "\n",
    "    return df_final"
   ]
  },
  {
   "cell_type": "code",
   "execution_count": 7,
   "metadata": {},
   "outputs": [],
   "source": [
    "def get_source_name(primary_location):\n",
    "    if primary_location is None:\n",
    "        return None\n",
    "    source_info = primary_location.get('source', None)\n",
    "    \n",
    "    if source_info is None:\n",
    "        return None\n",
    "    display_name = source_info.get('display_name', None)\n",
    "    \n",
    "    return display_name\n",
    "\n",
    "\n",
    "\n",
    "def transformar_df(df):\n",
    "    \n",
    "    df = df.loc[:,['doi','title','publication_date','created_date','primary_location','open_access','concepts','cited_by_count']]\n",
    "    \n",
    "    df_filtrado = df.copy()\n",
    "    \n",
    "    df_filtrado.loc[:,'source_title'] = df_filtrado['primary_location'].apply(get_source_name)\n",
    "    \n",
    "    df_filtrado.loc[:,'open_access_status'] = df_filtrado['open_access'].apply(lambda x: x.get('is_oa',None))\n",
    "    \n",
    "    df_filtrado = extrair_concepts_scores(df_filtrado)\n",
    "    \n",
    "    df_filtrado.drop(columns=['primary_location','open_access','concepts'],inplace=True)\n",
    "    \n",
    "    return df_filtrado"
   ]
  },
  {
   "cell_type": "code",
   "execution_count": 8,
   "metadata": {},
   "outputs": [],
   "source": [
    "def ler_e_transformar_arquivos_diretorio(diretorio_input, diretorio_output):\n",
    "    \n",
    "    if not os.path.exists(diretorio_output):\n",
    "        os.makedirs(diretorio_output)\n",
    "    \n",
    "    arquivos = [arquivo for arquivo in os.listdir(diretorio_input) if arquivo.endswith(\".parquet\")]\n",
    "    \n",
    "    try:\n",
    "        for arquivo_parquet in arquivos:\n",
    "            caminho_input = os.path.join(diretorio_input, arquivo_parquet)\n",
    "            df_original = pd.read_parquet(caminho_input)  \n",
    "            df_processado = transformar_df(df_original) \n",
    "            \n",
    "            output_file = os.path.splitext(arquivo_parquet)[0] + \".parquet\"\n",
    "            caminho_output = os.path.join(diretorio_output, output_file)\n",
    "            \n",
    "            df_processado.to_parquet(caminho_output, index=False)\n",
    "\n",
    "    except Exception as error:\n",
    "        print(arquivo_parquet,error)"
   ]
  },
  {
   "cell_type": "code",
   "execution_count": 9,
   "metadata": {},
   "outputs": [],
   "source": [
    "def concatenar_arquivos_parquet(diretorio_input):\n",
    "    dfs = []\n",
    "\n",
    "    for arquivo in os.listdir(diretorio_input):\n",
    "        if arquivo.endswith('.parquet'):\n",
    "            file_path = os.path.join(diretorio_input, arquivo)\n",
    "            df_parquet = pd.read_parquet(file_path)\n",
    "        \n",
    "            dfs.append(df_parquet)\n",
    "\n",
    "    df_concatenado = pd.concat(dfs, ignore_index=True)\n",
    "\n",
    "    return df_concatenado"
   ]
  },
  {
   "cell_type": "code",
   "execution_count": null,
   "metadata": {},
   "outputs": [],
   "source": []
  },
  {
   "cell_type": "code",
   "execution_count": 8,
   "metadata": {},
   "outputs": [],
   "source": [
    "data_inicial = '2023-09-23'\n",
    "data_final = '2023-09-30'\n",
    "\n",
    "#coletar_dados_e_salvar(data_inicial,data_final)"
   ]
  },
  {
   "cell_type": "code",
   "execution_count": 10,
   "metadata": {},
   "outputs": [],
   "source": [
    "diretorio_input = 'datasets_2023-09-23_to_2023-09-30'\n",
    "diretorio_output = 'datasets_2023-09-23_to_2023-09-30_processados'"
   ]
  },
  {
   "cell_type": "code",
   "execution_count": 11,
   "metadata": {},
   "outputs": [],
   "source": [
    "ler_e_transformar_arquivos_diretorio(diretorio_input,diretorio_output)"
   ]
  },
  {
   "cell_type": "code",
   "execution_count": null,
   "metadata": {},
   "outputs": [],
   "source": []
  },
  {
   "cell_type": "code",
   "execution_count": 12,
   "metadata": {},
   "outputs": [],
   "source": [
    "df_concatenado = concatenar_arquivos_parquet(diretorio_output)"
   ]
  },
  {
   "cell_type": "code",
   "execution_count": 13,
   "metadata": {},
   "outputs": [],
   "source": [
    "df_concatenado.iloc[:,7:] = df_concatenado.iloc[:,7:].fillna(0)"
   ]
  },
  {
   "cell_type": "code",
   "execution_count": null,
   "metadata": {},
   "outputs": [],
   "source": [
    "df_concatenado"
   ]
  },
  {
   "cell_type": "code",
   "execution_count": null,
   "metadata": {},
   "outputs": [],
   "source": [
    "concepts = df_concatenado.columns[7:]\n",
    "\n",
    "def create_concept_column(row):\n",
    "    concepts_list = [concept for concept in concepts if row[concept] > 0]\n",
    "    return ';'.join(concepts_list)\n",
    "\n",
    "df_concatenado['Concepts'] = df_concatenado.apply(create_concept_column, axis=1)"
   ]
  },
  {
   "cell_type": "code",
   "execution_count": 18,
   "metadata": {},
   "outputs": [
    {
     "data": {
      "text/plain": [
       "Concepts\n",
       "Medicine                                                                  0.145206\n",
       "Biology                                                                   0.049516\n",
       "Medicine;Biology                                                          0.048023\n",
       "Computer science                                                          0.045146\n",
       "Chemistry;Materials science                                               0.025539\n",
       "                                                                            ...   \n",
       "Psychology;Engineering;Chemistry;Sociology;Art;History                    0.000014\n",
       "Medicine;Political science;Computer science;Business;Biology              0.000014\n",
       "Engineering;Business;Environmental science;Geography;Materials science    0.000014\n",
       "Computer science;Geography;Art;History                                    0.000014\n",
       "Medicine;Psychology;Political science;Mathematics;Geography               0.000014\n",
       "Name: proportion, Length: 2969, dtype: float64"
      ]
     },
     "execution_count": 18,
     "metadata": {},
     "output_type": "execute_result"
    }
   ],
   "source": [
    "df_concatenado['Concepts'].value_counts(normalize=True)"
   ]
  },
  {
   "cell_type": "code",
   "execution_count": null,
   "metadata": {},
   "outputs": [],
   "source": [
    "df_concatenado.to_parquet('df_concatenado.parquet')"
   ]
  },
  {
   "cell_type": "markdown",
   "metadata": {},
   "source": [
    "___"
   ]
  },
  {
   "cell_type": "code",
   "execution_count": null,
   "metadata": {},
   "outputs": [],
   "source": [
    "df_concatenado = pd.read_parquet('df_concatenado.parquet')"
   ]
  },
  {
   "cell_type": "code",
   "execution_count": null,
   "metadata": {},
   "outputs": [],
   "source": [
    "df_concatenado = pd.read_parquet('df_concatenado.parquet')\n"
   ]
  },
  {
   "cell_type": "code",
   "execution_count": null,
   "metadata": {},
   "outputs": [],
   "source": [
    "\n"
   ]
  },
  {
   "cell_type": "code",
   "execution_count": null,
   "metadata": {},
   "outputs": [],
   "source": [
    "df_concatenado['Concepts'].value_counts(normalize=True)"
   ]
  },
  {
   "cell_type": "code",
   "execution_count": null,
   "metadata": {},
   "outputs": [],
   "source": [
    "concept = 'Statistics'\n",
    "\n",
    "df_concatenado.query('`Statistics` > 0 ')[\n",
    "    ['doi','title','publication_date','cited_by_count',concept]\n",
    "    ].sort_values(by='Statistics',ascending=False)"
   ]
  },
  {
   "cell_type": "code",
   "execution_count": null,
   "metadata": {},
   "outputs": [],
   "source": []
  }
 ],
 "metadata": {
  "kernelspec": {
   "display_name": "Python 3",
   "language": "python",
   "name": "python3"
  },
  "language_info": {
   "codemirror_mode": {
    "name": "ipython",
    "version": 3
   },
   "file_extension": ".py",
   "mimetype": "text/x-python",
   "name": "python",
   "nbconvert_exporter": "python",
   "pygments_lexer": "ipython3",
   "version": "3.10.12"
  },
  "orig_nbformat": 4
 },
 "nbformat": 4,
 "nbformat_minor": 2
}
